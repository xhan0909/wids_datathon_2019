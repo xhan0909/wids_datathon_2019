{
 "cells": [
  {
   "cell_type": "code",
   "execution_count": 1,
   "metadata": {},
   "outputs": [],
   "source": [
    "import torch\n",
    "from custom_loss import RocAucLoss\n",
    "import numpy as np\n",
    "import tensorflow as tf"
   ]
  },
  {
   "cell_type": "code",
   "execution_count": 2,
   "metadata": {},
   "outputs": [
    {
     "name": "stdout",
     "output_type": "stream",
     "text": [
      "pytorch,  20.78910638054612 \n",
      "\n",
      "tensorflow,  20.789106380546112\n"
     ]
    }
   ],
   "source": [
    "y1 = [1, 0, 1, 0, 0, 0, 1, 1, 1, 1, 0, 1, 0, 1, 0, 0, 1, 1, 1, 0, 1, 1]\n",
    "y2 = np.random.rand(len(y1))\n",
    "y_true_n = np.array(y1)\n",
    "y_pred_n = np.array(y2)\n",
    "\n",
    "y_true = torch.tensor(y1)\n",
    "y_pred = torch.tensor(y2)\n",
    "\n",
    "l = RocAucLoss()\n",
    "t_res = float(l.forward(y_pred, y_true))\n",
    "print(\"pytorch, \", t_res, \"\\n\")\n",
    "\n",
    "y_true_tf = tf.convert_to_tensor(y_true_n)\n",
    "y_pred_tf = tf.convert_to_tensor(y_pred_n)\n",
    "\n",
    "with tf.Session() as sess:\n",
    "    pos = tf.boolean_mask(y_pred, tf.cast(y_true, tf.bool))\n",
    "    neg = tf.boolean_mask(y_pred, ~tf.cast(y_true, tf.bool))\n",
    "    pos = tf.expand_dims(pos, 0)\n",
    "    neg = tf.expand_dims(neg, 1)\n",
    "    gamma = 0.2\n",
    "    p     = 3\n",
    "    difference = tf.zeros_like(pos * neg) + pos - neg - gamma\n",
    "    masked = tf.boolean_mask(difference, difference < 0.0)\n",
    "    tf_res = sess.run(tf.reduce_sum(tf.pow(-masked, p)))\n",
    "    \n",
    "    assert np.allclose(tf_res, t_res)\n",
    "    \n",
    "    print(\"tensorflow, \", tf_res)"
   ]
  }
 ],
 "metadata": {
  "kernelspec": {
   "display_name": "Python 3",
   "language": "python",
   "name": "python3"
  },
  "language_info": {
   "codemirror_mode": {
    "name": "ipython",
    "version": 3
   },
   "file_extension": ".py",
   "mimetype": "text/x-python",
   "name": "python",
   "nbconvert_exporter": "python",
   "pygments_lexer": "ipython3",
   "version": "3.6.8"
  }
 },
 "nbformat": 4,
 "nbformat_minor": 2
}
